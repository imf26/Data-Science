{
 "cells": [
  {
   "cell_type": "markdown",
   "metadata": {},
   "source": [
    "**<font size = 5 > 0. SETUP LIBRARIES AND FUNCTIONS** </font>"
   ]
  },
  {
   "cell_type": "code",
   "execution_count": 1,
   "metadata": {
    "ExecuteTime": {
     "end_time": "2020-09-02T16:59:38.144432Z",
     "start_time": "2020-09-02T16:59:28.920886Z"
    },
    "code_folding": [
     35,
     40,
     48,
     58,
     62,
     69,
     74,
     77,
     82
    ]
   },
   "outputs": [
    {
     "name": "stderr",
     "output_type": "stream",
     "text": [
      "Using TensorFlow backend.\n"
     ]
    },
    {
     "name": "stdout",
     "output_type": "stream",
     "text": [
      "--- Executed in 3.2901763916015625e-05 seconds ---\n"
     ]
    },
    {
     "name": "stderr",
     "output_type": "stream",
     "text": [
      "[nltk_data] Downloading package punkt to /Users/ivanmera/nltk_data...\n",
      "[nltk_data]   Package punkt is already up-to-date!\n",
      "[nltk_data] Downloading package averaged_perceptron_tagger to\n",
      "[nltk_data]     /Users/ivanmera/nltk_data...\n",
      "[nltk_data]   Package averaged_perceptron_tagger is already up-to-\n",
      "[nltk_data]       date!\n",
      "[nltk_data] Downloading package wordnet to\n",
      "[nltk_data]     /Users/ivanmera/nltk_data...\n",
      "[nltk_data]   Package wordnet is already up-to-date!\n",
      "[nltk_data] Downloading package stopwords to\n",
      "[nltk_data]     /Users/ivanmera/nltk_data...\n",
      "[nltk_data]   Package stopwords is already up-to-date!\n"
     ]
    }
   ],
   "source": [
    "import time\n",
    "from pathlib import Path\n",
    "from ruamel.yaml import YAML\n",
    "import re\n",
    "import numpy as np \n",
    "np.random.seed(10)\n",
    "import pandas as pd\n",
    "%matplotlib inline\n",
    "import matplotlib.pyplot as plt\n",
    "import gzip\n",
    "import nltk\n",
    "from nltk import WordNetLemmatizer\n",
    "from nltk import pos_tag, word_tokenize\n",
    "from nltk.corpus import stopwords\n",
    "from sklearn.model_selection import train_test_split\n",
    "from sklearn.feature_extraction.text import TfidfVectorizer\n",
    "from sklearn.metrics import classification_report\n",
    "from keras.preprocessing import text, sequence\n",
    "from keras import initializers, regularizers, constraints, optimizers, layers\n",
    "from keras.layers import Input, Flatten, Activation, Concatenate\n",
    "from keras.layers import Dense, GRU, Bidirectional,Conv1D\n",
    "from keras.layers import GlobalAveragePooling1D, GlobalMaxPooling1D, MaxPool1D\n",
    "from keras.layers import Dropout,SpatialDropout1D, Embedding\n",
    "from tensorflow.keras.regularizers import l1_l2\n",
    "from keras.models import Model, Sequential\n",
    "from keras.callbacks import Callback\n",
    "import warnings\n",
    "warnings.filterwarnings(\"ignore\")\n",
    "stop_words = set(stopwords.words(\"english\"))\n",
    "nltk.download('punkt')\n",
    "nltk.download('averaged_perceptron_tagger')\n",
    "nltk.download('wordnet')\n",
    "nltk.download('stopwords')\n",
    "\n",
    "#####--- 0.1 Define some functions used later in the program\n",
    "\n",
    "def parse(path):\n",
    "    g = gzip.open(path, 'rb')\n",
    "    for l in g:\n",
    "        yield json.loads(l)\n",
    "\n",
    "def getDF(path):\n",
    "    i = 0\n",
    "    df = {}\n",
    "    for d in parse(path):\n",
    "        df[i] = d\n",
    "        i += 1\n",
    "    return pd.DataFrame.from_dict(df, orient='index')\n",
    "\n",
    "def load_glove_vector(file):\n",
    "    \"\"\"load GloVe Vector\"\"\"\n",
    "    f = open(file,'r')\n",
    "    for line in f:\n",
    "        values = line.split()\n",
    "        word = values[0]\n",
    "        vector = np.asarray(values[1:], \"float32\")\n",
    "        embeddings_dict[word] = vector\n",
    "    f.close()\n",
    "    \n",
    "def remove_urls(text):\n",
    "    text = re.sub(r\"http\\S+\", \"\", text)\n",
    "    return text\n",
    "\n",
    "def remove_contraction(text):\n",
    "    \"\"\"remove contractions\"\"\"\n",
    "    for word in text.split():\n",
    "        if word in config[\"contractions\"]:\n",
    "            text = text.replace(word, config[\"contractions\"][word])\n",
    "    return text\n",
    "\n",
    "def remove_emoji(text):\n",
    "    \"\"\"remove emojis\"\"\"\n",
    "    text = re.sub(r\"(\\<u+\\S*>)\", \"\", text)\n",
    "    return text\n",
    "\n",
    "def remove_special_chars(text):\n",
    "    return re.sub('[^a-zA-Z]', ' ', text)\n",
    "    \n",
    "def remove_whitespace(text):\n",
    "    \"\"\"remove extra whitespaces from text\"\"\"\n",
    "    text = text.strip()\n",
    "    return \" \".join(text.split())\n",
    "\n",
    "def lemmatize_all(sentence):\n",
    "    \"\"\"lemmatize text\"\"\"\n",
    "    wnl = WordNetLemmatizer()\n",
    "    for word, tag in pos_tag(word_tokenize(sentence)):\n",
    "        if tag.startswith(\"NN\"):\n",
    "            yield wnl.lemmatize(word, pos='n')\n",
    "        elif tag.startswith('VB'):\n",
    "            yield wnl.lemmatize(word, pos='v')\n",
    "        elif tag.startswith('JJ'):\n",
    "            yield wnl.lemmatize(word, pos='a')\n",
    "        elif tag.startswith('R'):\n",
    "            yield wnl.lemmatize(word, pos='r')\n",
    "            \n",
    "        else:\n",
    "            yield word    \n",
    "\n",
    "start_time = time.time()\n",
    "print(\"--- Executed in %s seconds ---\" % (time.time() - start_time))\n",
    "\n"
   ]
  },
  {
   "cell_type": "markdown",
   "metadata": {},
   "source": [
    "**<font size = 5 > 1. IMPORT DATA AND CONFIG_FILE** </font>"
   ]
  },
  {
   "cell_type": "code",
   "execution_count": 2,
   "metadata": {
    "ExecuteTime": {
     "end_time": "2020-09-02T17:04:22.898336Z",
     "start_time": "2020-09-02T17:01:17.940564Z"
    },
    "scrolled": true
   },
   "outputs": [
    {
     "name": "stdout",
     "output_type": "stream",
     "text": [
      "--- Importing all inputs ---\n",
      "--- Imported df_1 reviews in 161.96719098091125 seconds ---\n",
      "--- Imported df_2 reviews in 179.4524850845337 seconds ---\n",
      "--- Imported df_3 reviews in 243.55396699905396 seconds ---\n",
      "--- Imported df_4 reviews in 260.0641767978668 seconds ---\n",
      "--- Imported GloVe vector in 284.6937348842621 seconds ---\n",
      "--- Imported all dataframes in 284.6955759525299 seconds ---\n"
     ]
    }
   ],
   "source": [
    "#######################--- 1. READ CONFIG_FILE AND LOAD ALL FILES ---#######################\n",
    "#####--- 1.0 Read Config_File\n",
    "path  = Path('/Users/ivanmera/Documents/TMS/PROJECT')\n",
    "path_input = path.joinpath(\"input\")\n",
    "yaml        = YAML(typ='safe')\n",
    "config      = yaml.load(path.joinpath(\"Config_File.yml\"))\n",
    "\n",
    "#####--- 1.1 Load both reviews and GloVe vector\n",
    "print(\"--- Importing all inputs ---\")\n",
    "df_1 = getDF(path_input.joinpath(config[\"df_1\"]))\n",
    "print(\"--- Imported df_1 reviews in %s seconds ---\" % (time.time() - start_time))\n",
    "df_2 = getDF(path_input.joinpath(config[\"df_2\"]))\n",
    "print(\"--- Imported df_2 reviews in %s seconds ---\" % (time.time() - start_time))\n",
    "df_3 = getDF(path_input.joinpath(config[\"df_3\"]))\n",
    "print(\"--- Imported df_3 reviews in %s seconds ---\" % (time.time() - start_time))\n",
    "df_4 = getDF(path_input.joinpath(config[\"df_4\"]))\n",
    "print(\"--- Imported df_4 reviews in %s seconds ---\" % (time.time() - start_time))\n",
    "embeddings_dict = {}\n",
    "load_glove_vector(path_input.joinpath(config['glove_vec']))\n",
    "print(\"--- Imported GloVe vector in %s seconds ---\" % (time.time() - start_time))\n",
    "\n",
    "print(\"--- Imported all dataframes in %s seconds ---\" % (time.time() - start_time))"
   ]
  },
  {
   "cell_type": "code",
   "execution_count": 3,
   "metadata": {
    "ExecuteTime": {
     "end_time": "2020-09-02T17:05:05.389337Z",
     "start_time": "2020-09-02T17:05:05.381225Z"
    }
   },
   "outputs": [
    {
     "name": "stdout",
     "output_type": "stream",
     "text": [
      "1758333 574628 1512530 602777\n"
     ]
    }
   ],
   "source": [
    "print(len(df_1),len(df_2),len(df_3),len(df_4))"
   ]
  },
  {
   "cell_type": "markdown",
   "metadata": {},
   "source": [
    "**<font size = 5 > 2. EDA AND FEATURE ENGINEERING** </font>"
   ]
  },
  {
   "cell_type": "code",
   "execution_count": 3,
   "metadata": {
    "ExecuteTime": {
     "end_time": "2020-08-31T17:39:16.895420Z",
     "start_time": "2020-08-31T17:38:59.214957Z"
    }
   },
   "outputs": [
    {
     "name": "stdout",
     "output_type": "stream",
     "text": [
      "Missing df_1\n",
      "reviewText    0.00056\n",
      "asin          0.00000\n",
      "reviewerID    0.00000\n",
      "dtype: float64\n",
      "Missing df_2\n",
      "reviewText    0.000696\n",
      "asin          0.000000\n",
      "reviewerID    0.000000\n",
      "dtype: float64\n",
      "Missing df_3\n",
      "reviewText    0.000565\n",
      "asin          0.000000\n",
      "reviewerID    0.000000\n",
      "dtype: float64\n",
      "Missing df_4\n",
      "reviewText    0.000538\n",
      "asin          0.000000\n",
      "reviewerID    0.000000\n",
      "dtype: float64\n",
      "(4445705, 4)\n"
     ]
    }
   ],
   "source": [
    "#####--- 2.0 Computer percentage of missing data\n",
    "print(\"Missing df_1\")\n",
    "print(df_1.isna().sum()/len(df_1))\n",
    "print(\"Missing df_2\")\n",
    "print(df_2.isna().sum()/len(df_2))\n",
    "print(\"Missing df_3\")\n",
    "print(df_3.isna().sum()/len(df_3))\n",
    "print(\"Missing df_4\")\n",
    "print(df_4.isna().sum()/len(df_4))\n",
    "\n",
    "#####--- 2.1 Delete osservations where reviewText is null\n",
    "df_1.dropna(subset=[\"reviewText\"], inplace = True)\n",
    "df_1.reset_index(drop = True, inplace = True)\n",
    "df_2.dropna(subset=[\"reviewText\"], inplace = True)\n",
    "df_2.reset_index(drop = True, inplace = True)\n",
    "df_3.dropna(subset=[\"reviewText\"], inplace = True)\n",
    "df_3.reset_index(drop = True, inplace = True)\n",
    "df_4.dropna(subset=[\"reviewText\"], inplace = True)\n",
    "df_4.reset_index(drop = True, inplace = True)\n",
    "\n",
    "#####--- 2.2 Compute the number of reviews per product\n",
    "n_review_1 = df_1.groupby('asin')['reviewerID'].count().sort_values(ascending=False)\n",
    "n_review_2 = df_2.groupby('asin')['reviewerID'].count().sort_values(ascending=False)\n",
    "n_review_3 = df_3.groupby('asin')['reviewerID'].count().sort_values(ascending=False)\n",
    "n_review_4 = df_4.groupby('asin')['reviewerID'].count().sort_values(ascending=False)\n",
    "n_review = pd.concat([n_review_1,n_review_2,n_review_3,n_review_4])\n",
    "\n",
    "#####--- 2.3 Create target column for each df\n",
    "df_1[\"target\"] = 0\n",
    "df_2[\"target\"] = 1\n",
    "df_3[\"target\"] = 2\n",
    "df_4[\"target\"] = 3\n",
    "\n",
    "#####--- 2.4 Merge all df\n",
    "df_all = pd.concat([df_1,df_2,df_3,df_4])\n",
    "\n",
    "print(df_all.shape)"
   ]
  },
  {
   "cell_type": "markdown",
   "metadata": {},
   "source": [
    "**<font size = 5 > 3. TEXT PREPROCESSING** </font>"
   ]
  },
  {
   "cell_type": "code",
   "execution_count": 6,
   "metadata": {
    "ExecuteTime": {
     "end_time": "2020-08-31T17:43:36.807194Z",
     "start_time": "2020-08-31T17:39:58.293494Z"
    }
   },
   "outputs": [
    {
     "name": "stdout",
     "output_type": "stream",
     "text": [
      "--- Preproccess df_all data in 456.1690001487732 seconds ---\n",
      "--- Removed stop words in 492.7654731273651 seconds ---\n"
     ]
    }
   ],
   "source": [
    "#####--- 3.0 Normalize and remove noise df_all data\n",
    "df_all[\"reviewText\"] = df_all[\"reviewText\"].str.lower()\n",
    "df_all[\"reviewText\"] = df_all[\"reviewText\"].apply(remove_urls)\n",
    "df_all[\"reviewText\"] = df_all[\"reviewText\"].apply(remove_contraction)\n",
    "df_all[\"reviewText\"] = df_all[\"reviewText\"].apply(remove_emoji)\n",
    "df_all[\"reviewText\"] = df_all[\"reviewText\"].apply(remove_special_chars)\n",
    "df_all[\"reviewText\"] = df_all[\"reviewText\"].apply(remove_whitespace)\n",
    "print(\"--- Preproccess df_all data in %s seconds ---\" % (time.time() - start_time))\n",
    "\n",
    "#####--- 3.1 Remove stopwords\n",
    "df_all['reviewText'] = df_all['reviewText'].apply(lambda x: \" \".join(x for x in x.split() if x not in stop_words))\n",
    "print(\"--- Removed stop words in %s seconds ---\" % (time.time() - start_time))\n",
    "\n",
    "#####--- 3.2 Get only one review per product\n",
    "df_all[\"review_length\"] = df_all[\"reviewText\"].apply(lambda x: len(x))\n",
    "df_all = df_all.sort_values('review_length', ascending = False).groupby('asin').first()\n",
    "\n",
    "#####--- 3.3 Reset index and get only two vars\n",
    "df_all.reset_index(inplace = True)\n",
    "df_all = df_all[[\"reviewText\",\"target\"]]\n",
    "df_all.dropna(subset=[\"reviewText\"], inplace = True)\n",
    "df_all.reset_index(drop = True, inplace = True)\n",
    "\n",
    "#####--- 3.4 Lemmatization\n",
    "df_all_lemma = []\n",
    "for i in range(0,len(df_all)):\n",
    "    df_all_lemma.append(\" \".join(lemmatize_all(str(df_all[\"reviewText\"].values[i]))))\n",
    "print(\"--- Lemmatized df in %s seconds ---\" % (time.time() - start_time))"
   ]
  },
  {
   "cell_type": "markdown",
   "metadata": {},
   "source": [
    "**<font size = 5 > 4. TEXT REPRESENTATION** </font>"
   ]
  },
  {
   "cell_type": "code",
   "execution_count": null,
   "metadata": {},
   "outputs": [],
   "source": [
    "##################--- TF-IDF REPRESENTATION ---##################\n",
    "#####--- 4.0 TF-IDF representation\n",
    "# Tranform lemma list in dataframe and concat target values\n",
    "df_lemma= pd.DataFrame(df_all_lemma, columns=[\"reviewText\"])\n",
    "df_lemma[\"target\"] = df_all[\"target\"]\n",
    "\n",
    "# Create corpus and target variables\n",
    "corpus = df_lemma['reviewText']\n",
    "target = df_lemma[\"target\"]\n",
    "\n",
    "# Create TF-IDF\n",
    "tfidf = TfidfVectorizer(max_features=config[\"max_features_tf\"], analyzer='word',ngram_range=(1,1))\n",
    "train_vect = tfidf.fit_transform(corpus)\n",
    "\n",
    "\n",
    "#####--- 4.1 Split data train/test for both TF-IDF and EMBEDDINGS\n",
    "x_train_tf, x_test_tf, y_train_tf, y_test_tf = train_test_split(train_vect, target, test_size = 0.2, random_state = 123)\n",
    "x_train_emb, x_test_emb, y_train_emb, y_test_emb = train_test_split(corpus, target, test_size = 0.2, random_state = 123)\n",
    "\n",
    "##################--- EMBEDDING REPRESENTATION---##################\n",
    "#####--- 4.2 Tokenize and create pad sequence\n",
    "print(\"Started plain tokenization\")\n",
    "tokenizer = text.Tokenizer(num_words = config[\"max_features\"])\n",
    "tokenizer.fit_on_texts(list(x_train_emb)) # Fit in X_train if none of above technique was done\n",
    "X_train = tokenizer.texts_to_sequences(x_train_emb)\n",
    "X_test = tokenizer.texts_to_sequences(x_test_emb)\n",
    "x_train = sequence.pad_sequences(X_train, maxlen = config[\"maxlen\"])\n",
    "x_test = sequence.pad_sequences(X_test, maxlen = config[\"maxlen\"])\n",
    "print(\"Finished plain tokenization\")\n",
    "\n",
    "#####--- 4.3 Create embedding matrix\n",
    "# 4.3.0 Compute mean and std of embeddings\n",
    "all_embs = np.stack(embeddings_dict.values())\n",
    "emb_mean,emb_std = all_embs.mean(), all_embs.std()\n",
    "\n",
    "# 4.3.1 Fill embedding matrix with Glove values based on word_index\n",
    "word_index = tokenizer.word_index\n",
    "nb_words = min(config[\"max_features\"], len(word_index))\n",
    "embedding_matrix = np.random.normal(emb_mean, emb_std, (nb_words, config[\"embed_size\"]))\n",
    "for word, i in word_index.items():\n",
    "    if i >= config[\"max_features\"]: \n",
    "        continue\n",
    "    embedding_vector = embeddings_dict.get(word)\n",
    "    if embedding_vector is not None: \n",
    "        embedding_matrix[i] = embedding_vector"
   ]
  },
  {
   "cell_type": "code",
   "execution_count": 104,
   "metadata": {
    "ExecuteTime": {
     "end_time": "2020-09-01T19:08:52.800591Z",
     "start_time": "2020-09-01T19:08:52.791954Z"
    }
   },
   "outputs": [
    {
     "name": "stdout",
     "output_type": "stream",
     "text": [
      "108877\n"
     ]
    }
   ],
   "source": [
    "print(len(word_index))\n",
    "#108877"
   ]
  },
  {
   "cell_type": "code",
   "execution_count": 42,
   "metadata": {
    "ExecuteTime": {
     "end_time": "2020-09-01T11:14:18.444616Z",
     "start_time": "2020-09-01T11:14:18.145787Z"
    }
   },
   "outputs": [
    {
     "data": {
      "image/png": "[encoded data removed]",
      "text/plain": [
       "<Figure size 432x288 with 1 Axes>"
      ]
     },
     "metadata": {},
     "output_type": "display_data"
    }
   ],
   "source": [
    "Num_words = [len(x) for x in X_train]\n",
    "plt.hist(Num_words,bins = np.arange(0,410,10))\n",
    "plt.title('Words distribution')\n",
    "plt.ylabel('Total comments')\n",
    "plt.xlabel('Number of words')\n",
    "plt.show()"
   ]
  },
  {
   "cell_type": "markdown",
   "metadata": {},
   "source": [
    "**<font size = 5 > 5. MODELING TF-IDF** </font>"
   ]
  },
  {
   "cell_type": "code",
   "execution_count": 79,
   "metadata": {
    "ExecuteTime": {
     "end_time": "2020-09-01T11:24:34.143356Z",
     "start_time": "2020-09-01T11:24:33.788714Z"
    }
   },
   "outputs": [],
   "source": [
    "#####--- 5.0 Split data train/validation\n",
    "X_tra_tf, X_val_tf, y_tra_tf, y_val_tf = train_test_split(x_train_tf, y_train_tf, test_size=0.1, random_state=456)\n",
    "\n",
    "model = Sequential([\n",
    "    Dense(2048, input_dim = config[\"max_features_tf\"]),\n",
    "    Activation('elu'),\n",
    "    Dense(2048),\n",
    "    Activation('elu'),\n",
    "    Dense(1024),\n",
    "    Activation('elu'),\n",
    "    Dense(512),\n",
    "    Activation('elu'),\n",
    "    Dense(4),\n",
    "    Activation('softmax'),\n",
    "])\n",
    "model.compile(loss='sparse_categorical_crossentropy', optimizer='adam', metrics=['accuracy'])"
   ]
  },
  {
   "cell_type": "code",
   "execution_count": 80,
   "metadata": {
    "ExecuteTime": {
     "end_time": "2020-09-01T11:24:38.919312Z",
     "start_time": "2020-09-01T11:24:38.909120Z"
    }
   },
   "outputs": [
    {
     "name": "stdout",
     "output_type": "stream",
     "text": [
      "Model: \"sequential_11\"\n",
      "_________________________________________________________________\n",
      "Layer (type)                 Output Shape              Param #   \n",
      "=================================================================\n",
      "dense_51 (Dense)             (None, 2048)              20482048  \n",
      "_________________________________________________________________\n",
      "activation_51 (Activation)   (None, 2048)              0         \n",
      "_________________________________________________________________\n",
      "dense_52 (Dense)             (None, 2048)              4196352   \n",
      "_________________________________________________________________\n",
      "activation_52 (Activation)   (None, 2048)              0         \n",
      "_________________________________________________________________\n",
      "dense_53 (Dense)             (None, 1024)              2098176   \n",
      "_________________________________________________________________\n",
      "activation_53 (Activation)   (None, 1024)              0         \n",
      "_________________________________________________________________\n",
      "dense_54 (Dense)             (None, 512)               524800    \n",
      "_________________________________________________________________\n",
      "activation_54 (Activation)   (None, 512)               0         \n",
      "_________________________________________________________________\n",
      "dense_55 (Dense)             (None, 4)                 2052      \n",
      "_________________________________________________________________\n",
      "activation_55 (Activation)   (None, 4)                 0         \n",
      "=================================================================\n",
      "Total params: 27,303,428\n",
      "Trainable params: 27,303,428\n",
      "Non-trainable params: 0\n",
      "_________________________________________________________________\n"
     ]
    }
   ],
   "source": [
    "model.summary()"
   ]
  },
  {
   "cell_type": "code",
   "execution_count": 81,
   "metadata": {
    "ExecuteTime": {
     "end_time": "2020-09-01T14:23:55.440663Z",
     "start_time": "2020-09-01T11:24:52.299241Z"
    }
   },
   "outputs": [
    {
     "name": "stdout",
     "output_type": "stream",
     "text": [
      "Train on 230418 samples, validate on 25603 samples\n",
      "Epoch 1/4\n",
      "230418/230418 [==============================] - 2681s 12ms/step - loss: 0.4255 - accuracy: 0.8484 - val_loss: 0.3762 - val_accuracy: 0.8632\n",
      "Epoch 2/4\n",
      "230418/230418 [==============================] - 2637s 11ms/step - loss: 0.3759 - accuracy: 0.8674 - val_loss: 0.3686 - val_accuracy: 0.8689\n",
      "Epoch 3/4\n",
      "230418/230418 [==============================] - 2666s 12ms/step - loss: 0.3493 - accuracy: 0.8732 - val_loss: 0.3837 - val_accuracy: 0.8597\n",
      "Epoch 4/4\n",
      "230418/230418 [==============================] - 2758s 12ms/step - loss: 0.3304 - accuracy: 0.8798 - val_loss: 0.3873 - val_accuracy: 0.8659\n"
     ]
    }
   ],
   "source": [
    "hist_tf = model.fit(X_tra_tf, y_tra_tf, batch_size=32, epochs=4, validation_data=(X_val_tf, y_val_tf))"
   ]
  },
  {
   "cell_type": "code",
   "execution_count": 86,
   "metadata": {
    "ExecuteTime": {
     "end_time": "2020-09-01T16:11:35.278646Z",
     "start_time": "2020-09-01T16:11:35.070095Z"
    }
   },
   "outputs": [
    {
     "data": {
      "image/png": "[encoded data removed]",
      "text/plain": [
       "<Figure size 432x288 with 1 Axes>"
      ]
     },
     "metadata": {},
     "output_type": "display_data"
    }
   ],
   "source": [
    "#####--- 5.2 Plot Loss graph\n",
    "loss_tf = hist_tf.history['loss']\n",
    "val_loss_tf = hist_tf.history['val_loss']\n",
    "epochs_tf = range(1, len(loss_tf)+1)\n",
    "plt.plot(epochs_tf, loss_tf, label='Training loss')\n",
    "plt.plot(epochs_tf, val_loss_tf, label='Validation loss')\n",
    "plt.title('Training and validation loss tf')\n",
    "plt.xlabel('Epochs')\n",
    "plt.ylabel('Loss')\n",
    "plt.legend()\n",
    "plt.show();"
   ]
  },
  {
   "cell_type": "code",
   "execution_count": 87,
   "metadata": {
    "ExecuteTime": {
     "end_time": "2020-09-01T16:11:54.247612Z",
     "start_time": "2020-09-01T16:11:54.058714Z"
    }
   },
   "outputs": [
    {
     "data": {
      "image/png": "[encoded data removed]",
      "text/plain": [
       "<Figure size 432x288 with 1 Axes>"
      ]
     },
     "metadata": {},
     "output_type": "display_data"
    }
   ],
   "source": [
    "#####--- 5.3 Plot Accuracy graph\n",
    "accuracy_tf = hist_tf.history['accuracy']\n",
    "val_accuracy_tf = hist_tf.history['val_accuracy']\n",
    "plt.plot(epochs_tf, accuracy_tf, label='Training accuracy')\n",
    "plt.plot(epochs_tf, val_accuracy_tf, label='Validation accuracy')\n",
    "plt.title('Training and validation accuracy tf')\n",
    "plt.ylabel('Accuracy')\n",
    "plt.xlabel('Epochs')\n",
    "plt.legend()\n",
    "plt.show();"
   ]
  },
  {
   "cell_type": "code",
   "execution_count": null,
   "metadata": {},
   "outputs": [],
   "source": [
    "#####--- 5.4 Calculate RocAuc, loss and accuracy\n",
    "res_tf = model.evaluate(x_test_tf,y_test_tf)"
   ]
  },
  {
   "cell_type": "code",
   "execution_count": 24,
   "metadata": {
    "ExecuteTime": {
     "end_time": "2020-09-01T10:42:26.108142Z",
     "start_time": "2020-09-01T10:42:26.096932Z"
    }
   },
   "outputs": [
    {
     "data": {
      "text/plain": [
       "[0.37842917988043107, 0.8685435652732849]"
      ]
     },
     "execution_count": 24,
     "metadata": {},
     "output_type": "execute_result"
    }
   ],
   "source": [
    "res_tf"
   ]
  },
  {
   "cell_type": "markdown",
   "metadata": {},
   "source": [
    "**<font size = 5 > 6. MODELING GLOVE EMBEDDINGS** </font>"
   ]
  },
  {
   "cell_type": "code",
   "execution_count": 93,
   "metadata": {
    "ExecuteTime": {
     "end_time": "2020-09-01T16:15:51.740854Z",
     "start_time": "2020-09-01T16:15:51.022014Z"
    }
   },
   "outputs": [],
   "source": [
    "#####--- 6.0 Split data train/validation\n",
    "X_tra_emb, X_val_emb, y_tra_emb, y_val_emb = train_test_split(x_train, y_train_emb, test_size=0.1, random_state=456)\n",
    "\n",
    "#####--- 6.1 Create GRU + CNN model architecture\n",
    "inp = Input(shape=(config[\"maxlen\"],))\n",
    "x = Embedding(config[\"max_features\"], config[\"embed_size\"], weights=[embedding_matrix], trainable = False)(inp)\n",
    "x = Bidirectional(GRU(80, return_sequences=True))(x)\n",
    "x = Conv1D(64, kernel_size=3, kernel_initializer='normal', activation='elu')(x)\n",
    "x = Dropout(0.2)(x)\n",
    "avg_pool = GlobalAveragePooling1D()(x)\n",
    "max_pool = GlobalMaxPooling1D()(x)\n",
    "x = Concatenate()([avg_pool, max_pool])\n",
    "#x = Dropout(0.2)(x)\n",
    "out = Dense(4, activation='softmax')(x)\n",
    "\n",
    "model = Model(inputs = inp, outputs = out)\n",
    "model.compile(loss='sparse_categorical_crossentropy', optimizer='adam', metrics=['accuracy'])"
   ]
  },
  {
   "cell_type": "code",
   "execution_count": 94,
   "metadata": {
    "ExecuteTime": {
     "end_time": "2020-09-01T16:15:57.319927Z",
     "start_time": "2020-09-01T16:15:57.309378Z"
    }
   },
   "outputs": [
    {
     "name": "stdout",
     "output_type": "stream",
     "text": [
      "Model: \"model_2\"\n",
      "__________________________________________________________________________________________________\n",
      "Layer (type)                    Output Shape         Param #     Connected to                     \n",
      "==================================================================================================\n",
      "input_2 (InputLayer)            (None, 200)          0                                            \n",
      "__________________________________________________________________________________________________\n",
      "embedding_2 (Embedding)         (None, 200, 200)     20000000    input_2[0][0]                    \n",
      "__________________________________________________________________________________________________\n",
      "bidirectional_2 (Bidirectional) (None, 200, 160)     134880      embedding_2[0][0]                \n",
      "__________________________________________________________________________________________________\n",
      "conv1d_2 (Conv1D)               (None, 198, 64)      30784       bidirectional_2[0][0]            \n",
      "__________________________________________________________________________________________________\n",
      "dropout_2 (Dropout)             (None, 198, 64)      0           conv1d_2[0][0]                   \n",
      "__________________________________________________________________________________________________\n",
      "global_average_pooling1d_2 (Glo (None, 64)           0           dropout_2[0][0]                  \n",
      "__________________________________________________________________________________________________\n",
      "global_max_pooling1d_2 (GlobalM (None, 64)           0           dropout_2[0][0]                  \n",
      "__________________________________________________________________________________________________\n",
      "concatenate_2 (Concatenate)     (None, 128)          0           global_average_pooling1d_2[0][0] \n",
      "                                                                 global_max_pooling1d_2[0][0]     \n",
      "__________________________________________________________________________________________________\n",
      "dense_57 (Dense)                (None, 4)            516         concatenate_2[0][0]              \n",
      "==================================================================================================\n",
      "Total params: 20,166,180\n",
      "Trainable params: 166,180\n",
      "Non-trainable params: 20,000,000\n",
      "__________________________________________________________________________________________________\n"
     ]
    }
   ],
   "source": [
    "model.summary()"
   ]
  },
  {
   "cell_type": "code",
   "execution_count": 95,
   "metadata": {
    "ExecuteTime": {
     "end_time": "2020-09-01T18:38:34.601522Z",
     "start_time": "2020-09-01T16:16:02.975646Z"
    }
   },
   "outputs": [
    {
     "name": "stdout",
     "output_type": "stream",
     "text": [
      "Train on 230418 samples, validate on 25603 samples\n",
      "Epoch 1/4\n",
      "230418/230418 [==============================] - 1929s 8ms/step - loss: 0.4273 - accuracy: 0.8447 - val_loss: 0.3894 - val_accuracy: 0.8606\n",
      "Epoch 2/4\n",
      "230418/230418 [==============================] - 2071s 9ms/step - loss: 0.3636 - accuracy: 0.8680 - val_loss: 0.3706 - val_accuracy: 0.8676\n",
      "Epoch 3/4\n",
      "230418/230418 [==============================] - 2132s 9ms/step - loss: 0.3367 - accuracy: 0.8771 - val_loss: 0.3679 - val_accuracy: 0.8650\n",
      "Epoch 4/4\n",
      "230418/230418 [==============================] - 2417s 10ms/step - loss: 0.3133 - accuracy: 0.8850 - val_loss: 0.3872 - val_accuracy: 0.8595\n"
     ]
    }
   ],
   "source": [
    "#####--- 6.1 Fit model\n",
    "hist_emb = model.fit(X_tra_emb, y_tra_emb, batch_size=32, epochs=4, validation_data=(X_val_emb, y_val_emb))"
   ]
  },
  {
   "cell_type": "code",
   "execution_count": 96,
   "metadata": {
    "ExecuteTime": {
     "end_time": "2020-09-01T18:43:31.466835Z",
     "start_time": "2020-09-01T18:43:31.458079Z"
    }
   },
   "outputs": [
    {
     "data": {
      "text/plain": [
       "{'accuracy': [0.8447213, 0.8680051, 0.87705386, 0.88498294],\n",
       " 'loss': [0.42725303109424606,\n",
       "  0.3636261612754529,\n",
       "  0.3367467257366284,\n",
       "  0.3133227775549874],\n",
       " 'val_accuracy': [0.8605632185935974,\n",
       "  0.8675936460494995,\n",
       "  0.8649767637252808,\n",
       "  0.8595086336135864],\n",
       " 'val_loss': [0.38941852465479726,\n",
       "  0.3706264543871123,\n",
       "  0.3679304585202441,\n",
       "  0.3871729331433631]}"
      ]
     },
     "execution_count": 96,
     "metadata": {},
     "output_type": "execute_result"
    }
   ],
   "source": [
    "hist_emb.history"
   ]
  },
  {
   "cell_type": "code",
   "execution_count": 97,
   "metadata": {
    "ExecuteTime": {
     "end_time": "2020-09-01T18:43:37.026040Z",
     "start_time": "2020-09-01T18:43:36.836729Z"
    }
   },
   "outputs": [
    {
     "data": {
      "image/png": "[encoded data removed]",
      "text/plain": [
       "<Figure size 432x288 with 1 Axes>"
      ]
     },
     "metadata": {},
     "output_type": "display_data"
    }
   ],
   "source": [
    "#####--- 6.2 Plot Loss graph\n",
    "loss_emb = hist_emb.history['loss']\n",
    "val_loss_emb = hist_emb.history['val_loss']\n",
    "epochs_emb = range(1, len(loss_emb)+1)\n",
    "plt.plot(epochs_emb, loss_emb, label='Training loss')\n",
    "plt.plot(epochs_emb, val_loss_emb, label='Validation loss')\n",
    "plt.title('Training and validation loss EMB')\n",
    "plt.xlabel('Epochs')\n",
    "plt.ylabel('Loss')\n",
    "plt.legend()\n",
    "plt.show();"
   ]
  },
  {
   "cell_type": "code",
   "execution_count": 98,
   "metadata": {
    "ExecuteTime": {
     "end_time": "2020-09-01T18:43:48.158302Z",
     "start_time": "2020-09-01T18:43:47.942113Z"
    }
   },
   "outputs": [
    {
     "data": {
      "image/png": "[encoded data removed]",
      "text/plain": [
       "<Figure size 432x288 with 1 Axes>"
      ]
     },
     "metadata": {},
     "output_type": "display_data"
    }
   ],
   "source": [
    "#####--- 6.3 Plot Accuracy graph\n",
    "accuracy_emb = hist_emb.history['accuracy']\n",
    "val_accuracy_emb = hist_emb.history['val_accuracy']\n",
    "plt.plot(epochs_emb, accuracy_emb, label='Training accuracy')\n",
    "plt.plot(epochs_emb, val_accuracy_emb, label='Validation accuracy')\n",
    "plt.title('Training and validation accuracy emb')\n",
    "plt.ylabel('Accuracy')\n",
    "plt.xlabel('Epochs')\n",
    "plt.legend()\n",
    "plt.show();"
   ]
  },
  {
   "cell_type": "code",
   "execution_count": null,
   "metadata": {},
   "outputs": [],
   "source": []
  },
  {
   "cell_type": "code",
   "execution_count": 103,
   "metadata": {
    "ExecuteTime": {
     "end_time": "2020-09-01T18:49:18.246038Z",
     "start_time": "2020-09-01T18:46:52.550177Z"
    }
   },
   "outputs": [
    {
     "name": "stdout",
     "output_type": "stream",
     "text": [
      "64006/64006 [==============================] - 146s 2ms/step\n"
     ]
    },
    {
     "data": {
      "text/plain": [
       "[0.3789918731533403, 0.8621535301208496]"
      ]
     },
     "execution_count": 103,
     "metadata": {},
     "output_type": "execute_result"
    }
   ],
   "source": [
    "#####--- 6.4 Calculate loss and accuracy\n",
    "res_emb = model.evaluate(x_test,y_test_emb)\n",
    "res_emb"
   ]
  },
  {
   "cell_type": "code",
   "execution_count": null,
   "metadata": {},
   "outputs": [],
   "source": []
  },
  {
   "cell_type": "code",
   "execution_count": null,
   "metadata": {},
   "outputs": [],
   "source": []
  }
 ],
 "metadata": {
  "kernelspec": {
   "display_name": "Python 3",
   "language": "python",
   "name": "python3"
  },
  "language_info": {
   "codemirror_mode": {
    "name": "ipython",
    "version": 3
   },
   "file_extension": ".py",
   "mimetype": "text/x-python",
   "name": "python",
   "nbconvert_exporter": "python",
   "pygments_lexer": "ipython3",
   "version": "3.8.3"
  },
  "varInspector": {
   "cols": {
    "lenName": 16,
    "lenType": 16,
    "lenVar": 40
   },
   "kernels_config": {
    "python": {
     "delete_cmd_postfix": "",
     "delete_cmd_prefix": "del ",
     "library": "var_list.py",
     "varRefreshCmd": "print(var_dic_list())"
    },
    "r": {
     "delete_cmd_postfix": ") ",
     "delete_cmd_prefix": "rm(",
     "library": "var_list.r",
     "varRefreshCmd": "cat(var_dic_list()) "
    }
   },
   "types_to_exclude": [
    "module",
    "function",
    "builtin_function_or_method",
    "instance",
    "_Feature"
   ],
   "window_display": false
  }
 },
 "nbformat": 4,
 "nbformat_minor": 4
}

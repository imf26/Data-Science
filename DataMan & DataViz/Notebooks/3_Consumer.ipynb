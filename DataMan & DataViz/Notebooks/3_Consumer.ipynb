{
 "cells": [
  {
   "cell_type": "markdown",
   "metadata": {},
   "source": [
    "**<font size = 5 > 0. SETUP LIBRARIES AND PACKAGES** </font>"
   ]
  },
  {
   "cell_type": "code",
   "execution_count": 1,
   "metadata": {},
   "outputs": [],
   "source": [
    "#####--- 0.1 Import libraries\n",
    "from kafka import KafkaConsumer\n",
    "import json\n",
    "from pymongo import MongoClient\n",
    "from pathlib import Path\n",
    "from ruamel.yaml import YAML\n",
    "import time\n",
    "from  datetime import datetime\n",
    "import warnings\n",
    "warnings.filterwarnings('ignore')"
   ]
  },
  {
   "cell_type": "markdown",
   "metadata": {
    "ExecuteTime": {
     "end_time": "2021-03-25T22:28:16.644199Z",
     "start_time": "2021-03-25T22:28:16.635486Z"
    }
   },
   "source": [
    "**<font size = 5 > 1. IMPORT CONFIG_FILE AND SET DB** </font>"
   ]
  },
  {
   "cell_type": "code",
   "execution_count": null,
   "metadata": {},
   "outputs": [],
   "source": [
    "#####--- 1.0 Read Config_File and set some variables\n",
    "yaml        = YAML(typ='safe')\n",
    "with open('Config_File.yml', 'r') as fil:\n",
    "        config = yaml.load(fil)\n",
    "config_general = config[\"general\"]\n",
    "config_pgr = config[\"pgr1\"]\n",
    "act_topic = config_pgr[\"topic\"]\n",
    "hours_gtm = int(config_general[\"hours_gtm\"])\n",
    "\n",
    "#####--- 1.1 Connect to DB\n",
    "client = MongoClient('mongo', 27017, username='', password='')\n",
    "db = client.dataman \n",
    "\n",
    "#####--- 1.2 Set consumer\n",
    "consumer = KafkaConsumer(\n",
    "  bootstrap_servers=[\"kafka:9092\"],\n",
    "  auto_offset_reset='earliest',\n",
    "  value_deserializer=lambda m: json.loads(m.decode('utf-8'))\n",
    "  )\n",
    "\n"
   ]
  },
  {
   "cell_type": "markdown",
   "metadata": {},
   "source": [
    "**<font size = 5 > 2. CONSUME DATA** </font>"
   ]
  },
  {
   "cell_type": "code",
   "execution_count": null,
   "metadata": {},
   "outputs": [],
   "source": [
    "#####--- 2.0 Subscribe topic\n",
    "consumer.subscribe(act_topic) \n",
    "\n",
    "#####--- 2.1 Consume data\n",
    "while(True):\n",
    "    for message in consumer:\n",
    "        try:\n",
    "            messaggio = message.value\n",
    "            ora = messaggio['created_at']\n",
    "            ora = datetime.strptime(ora, \"%Y-%m-%d %H:%M:%S\")\n",
    "            ora = datetime(ora.year, ora.month, ora.day, \n",
    "                   ora.hour + hours_gtm, ora.minute, ora.second) \n",
    "            messaggio['created_at'] = ora\n",
    "            db.qr.insert_one(messaggio) \n",
    "        except:\n",
    "            print(\"errore\")\n",
    "    time.sleep(5)"
   ]
  }
 ],
 "metadata": {
  "kernelspec": {
   "display_name": "Python 3",
   "language": "python",
   "name": "python3"
  },
  "language_info": {
   "codemirror_mode": {
    "name": "ipython",
    "version": 3
   },
   "file_extension": ".py",
   "mimetype": "text/x-python",
   "name": "python",
   "nbconvert_exporter": "python",
   "pygments_lexer": "ipython3",
   "version": "3.8.3"
  }
 },
 "nbformat": 4,
 "nbformat_minor": 4
}

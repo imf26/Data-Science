{
 "cells": [
  {
   "cell_type": "markdown",
   "metadata": {},
   "source": [
    "**<font size = 5 > 0. SETUP LIBRARIES AND DEFINE FUNCTIONS** </font>"
   ]
  },
  {
   "cell_type": "code",
   "execution_count": 1,
   "metadata": {
    "ExecuteTime": {
     "end_time": "2021-02-01T16:37:38.097905Z",
     "start_time": "2021-02-01T16:37:36.931878Z"
    }
   },
   "outputs": [],
   "source": [
    "import pandas as pd\n",
    "import numpy as np\n",
    "import json\n",
    "import csv\n",
    "from ast import literal_eval\n",
    "from datetime import datetime\n",
    "from ruamel.yaml import YAML\n",
    "import re\n",
    "\n",
    "def remove_emo(str1):\n",
    "    text = emoji_pattern.sub(r'', str1)\n",
    "    return text\n",
    "\n",
    "def remove_al(text):\n",
    "    final = text.replace('ن','')\n",
    "    return final\n",
    "\n",
    "emoji_pattern = re.compile(\"[\"u\"\\U0001F600-\\U0001F64F\" \n",
    "                           \"\\U0001F300-\\U0001F5FF\"   \n",
    "                           \"\\U0001F680-\\U0001F6FF\"   \n",
    "                           \"\\U0001F1E0-\\U0001F1FF\"   \n",
    "                           u\"\\U0001F1F2-\\U0001F1F4\"   \n",
    "                           \"\\U0001F1E6-\\U0001F1FF\"   \n",
    "                           \"\\U0001F600-\\U0001F64F\"u\"\\U00002702-\\U000027B0\"u\"\\U000024C2-\\U0001F251\"u\"\\U0001f926-\\U0001f937\"u\"\\U0001F1F2\"u\"\\U0001F1F4\"u\"\\U0001F620\"u\"\\u200d\"u\"\\u2640-\\u2642\"\"]+\", flags=re.UNICODE)\n"
   ]
  },
  {
   "cell_type": "markdown",
   "metadata": {},
   "source": [
    "**<font size = 5 > 1. IMPORT CONFIG_FILE AND TWEETS** </font>"
   ]
  },
  {
   "cell_type": "code",
   "execution_count": 3,
   "metadata": {
    "ExecuteTime": {
     "end_time": "2021-02-01T16:37:42.970948Z",
     "start_time": "2021-02-01T16:37:42.925168Z"
    }
   },
   "outputs": [],
   "source": [
    "#####--- 1.0 Import Config_File\n",
    "yaml        = YAML(typ='safe')\n",
    "with open('/Users/ivanmera/Documents/dataman/input_data/Config_File_ospiti_1.yml', 'r') as fil:\n",
    "        config = yaml.load(fil)\n",
    "qr_general = config[\"quarta_rep1\"]\n",
    "nomi_veri = qr_general[\"quarta_rep_real\"]\n",
    "\n",
    "#####--- 1.1 Import tweets\n",
    "tweets = []\n",
    "for line in open('/Users/ivanmera/Documents/dataman/stream_json/quartarepubblica_pulito_1.json',\n",
    "                 'r',\n",
    "                 encoding=\"utf-8\"):\n",
    "    '''appendo ogni tweet in una lista'''\n",
    "    tweets.append(json.loads(line))\n",
    "    \n",
    "#####--- 1.2 Write CSV    \n",
    "with open(\"/Users/ivanmera/Documents/dataman/stream_csv/quartarepubblica_tweets_1.csv\", \"w\", newline=\"\", encoding='utf-8') as c:\n",
    "    writer = csv.writer(c)\n",
    "    '''definisco gli attributi del mio df\n",
    "    '''\n",
    "    writer.writerow(\n",
    "        [\"_id\", \"user_id\", \"user_name\", \"created_at\", \"text\", \"user_men\",\"nome_pgr\"])\n",
    "    for tweet in tweets:\n",
    "        if isinstance(tweet[\"_id\"], dict): \n",
    "            _id = tweet.get('_id', {}).get('$oid')\n",
    "        else:\n",
    "            _id = tweet.get('_id',{})\n",
    "        '''valuto se l'attributo user_id ha come valore un dict anzichè un numero\n",
    "        '''\n",
    "        if isinstance(tweet[\"user_id\"], dict):\n",
    "            user_id_ = tweet.get('user_id', {}).get('$numberLong')\n",
    "        else:\n",
    "            '''nel caso non lo fosse prendo direttamente il numero\n",
    "            '''\n",
    "            user_id_ = tweet.get('user_id', {})\n",
    "        ''' prendo l'orario\n",
    "        '''\n",
    "        created_at_ = tweet.get('created_at', {}).get('$date')\n",
    "        '''prendo username'''\n",
    "        user_name = tweet.get('username', {})\n",
    "        '''inserisco tutti i valori\n",
    "        '''\n",
    "        writer.writerow([_id,\n",
    "            user_id_, user_name, created_at_, tweet[\"text\"],\n",
    "            tweet[\"user_mentions_name\"],tweet[\"nome_pgr\"]\n",
    "        ])\n",
    "c.close()\n",
    "\n",
    "#####--- 1.3 Import CSV\n",
    "df = pd.read_csv(\"/Users/ivanmera/Documents/dataman/stream_csv/quartarepubblica_tweets_1.csv\") "
   ]
  },
  {
   "cell_type": "markdown",
   "metadata": {},
   "source": [
    "**<font size = 5 > 2. PROCESSING** </font>"
   ]
  },
  {
   "cell_type": "code",
   "execution_count": 7,
   "metadata": {
    "ExecuteTime": {
     "end_time": "2021-02-01T16:38:28.701074Z",
     "start_time": "2021-02-01T16:38:23.679248Z"
    }
   },
   "outputs": [],
   "source": [
    "#####--- 2.0 Set datetime format\n",
    "df[\"created_at\"] = pd.to_datetime(df[\"created_at\"], format = \"%Y-%m-%dT%H:%M:%SZ\")\n",
    "\n",
    "#####--- 2.1 Explode mentions and normalize\n",
    "df[\"user_men\"] = df[\"user_men\"].apply(literal_eval)\n",
    "df = df.explode(\"user_men\")\n",
    "df[\"user_men_normalize\"] = df[\"user_men\"].str.lower()\n",
    "df[\"user_men_normalize\"] = df[\"user_men_normalize\"].astype(str)\n",
    "df[\"user_men_normalize\"] = df[\"user_men_normalize\"].str.strip()\n",
    "df[\"user_men_normalize_emo\"] = df[\"user_men_normalize\"].apply(remove_emo) # remove emoticon\n",
    "df[\"user_men_normalize_emo\"] = df[\"user_men_normalize_emo\"].apply(remove_al)# demelonizzazione\n",
    "\n",
    "#####--- 2.2 Filter mentions\n",
    "df_final = df.loc[df[\"user_men_normalize_emo\"].isin(nomi_veri)]\n",
    "df_final[\"user_men_normalize_emo\"] = df_final[\"user_men_normalize_emo\"].str.title()\n",
    "df_final[\"user_men_normalize_emo\"] = df_final[\"user_men_normalize_emo\"].str.replace(\"Dimartedì\", \"Di martedì\")\n",
    "\n",
    "#####--- 2.3 Export \n",
    "df_final.to_excel('/Users/ivanmera/Documents/dataman/stream_xlsx/quartarepubblica_pulito_1.xlsx', \n",
    "                  index = False)"
   ]
  },
  {
   "cell_type": "code",
   "execution_count": 18,
   "metadata": {
    "ExecuteTime": {
     "end_time": "2021-02-01T16:38:49.596564Z",
     "start_time": "2021-02-01T16:38:49.534106Z"
    }
   },
   "outputs": [
    {
     "data": {
      "text/html": [
       "<div>\n",
       "<style scoped>\n",
       "    .dataframe tbody tr th:only-of-type {\n",
       "        vertical-align: middle;\n",
       "    }\n",
       "\n",
       "    .dataframe tbody tr th {\n",
       "        vertical-align: top;\n",
       "    }\n",
       "\n",
       "    .dataframe thead th {\n",
       "        text-align: right;\n",
       "    }\n",
       "</style>\n",
       "<table border=\"1\" class=\"dataframe\">\n",
       "  <thead>\n",
       "    <tr style=\"text-align: right;\">\n",
       "      <th></th>\n",
       "      <th>_id</th>\n",
       "      <th>user_id</th>\n",
       "      <th>user_name</th>\n",
       "      <th>created_at</th>\n",
       "      <th>text</th>\n",
       "      <th>user_men</th>\n",
       "      <th>nome_pgr</th>\n",
       "      <th>user_men_normalize</th>\n",
       "      <th>user_men_normalize_emo</th>\n",
       "    </tr>\n",
       "  </thead>\n",
       "  <tbody>\n",
       "    <tr>\n",
       "      <th>1518</th>\n",
       "      <td>5ffcb329bab666f05f083f8a</td>\n",
       "      <td>424084271</td>\n",
       "      <td>L'Italia Vera 🇮🇹</td>\n",
       "      <td>2021-01-11 21:20:52</td>\n",
       "      <td>RT @Capezzone: +++Appuntamento in tv 📺 +++\\nSt...</td>\n",
       "      <td>Daniele Capezzone</td>\n",
       "      <td>Quarta repubblica</td>\n",
       "      <td>daniele capezzone</td>\n",
       "      <td>Daniele Capezzone</td>\n",
       "    </tr>\n",
       "    <tr>\n",
       "      <th>1518</th>\n",
       "      <td>5ffcb329bab666f05f083f8a</td>\n",
       "      <td>424084271</td>\n",
       "      <td>L'Italia Vera 🇮🇹</td>\n",
       "      <td>2021-01-11 21:20:52</td>\n",
       "      <td>RT @Capezzone: +++Appuntamento in tv 📺 +++\\nSt...</td>\n",
       "      <td>Quarta Repubblica</td>\n",
       "      <td>Quarta repubblica</td>\n",
       "      <td>quarta repubblica</td>\n",
       "      <td>Quarta Repubblica</td>\n",
       "    </tr>\n",
       "    <tr>\n",
       "      <th>2719</th>\n",
       "      <td>5ffcb352bab666f05f084442</td>\n",
       "      <td>467573735</td>\n",
       "      <td>IL CITTADINO</td>\n",
       "      <td>2021-01-11 21:21:33</td>\n",
       "      <td>RT @MG58steelclass: @NicolaPorro @francetomm @...</td>\n",
       "      <td>Nicola Porro</td>\n",
       "      <td>Quarta repubblica</td>\n",
       "      <td>nicola porro</td>\n",
       "      <td>Nicola Porro</td>\n",
       "    </tr>\n",
       "    <tr>\n",
       "      <th>2811</th>\n",
       "      <td>5ffcb355bab666f05f08449f</td>\n",
       "      <td>1209530971617402880</td>\n",
       "      <td>Gerardo</td>\n",
       "      <td>2021-01-11 21:21:36</td>\n",
       "      <td>@NicolaPorro Che vada A fare il pastore che è ...</td>\n",
       "      <td>Nicola Porro</td>\n",
       "      <td>Quarta repubblica</td>\n",
       "      <td>nicola porro</td>\n",
       "      <td>Nicola Porro</td>\n",
       "    </tr>\n",
       "    <tr>\n",
       "      <th>3516</th>\n",
       "      <td>5ffcb36dbab666f05f084766</td>\n",
       "      <td>141529750</td>\n",
       "      <td>Laura Carrese ✖</td>\n",
       "      <td>2021-01-11 21:22:00</td>\n",
       "      <td>RT @VittorioSgarbi: A 90 anni dalla sua morte ...</td>\n",
       "      <td>Vittorio Sgarbi</td>\n",
       "      <td>Quarta repubblica</td>\n",
       "      <td>vittorio sgarbi</td>\n",
       "      <td>Vittorio Sgarbi</td>\n",
       "    </tr>\n",
       "  </tbody>\n",
       "</table>\n",
       "</div>"
      ],
      "text/plain": [
       "                           _id              user_id         user_name  \\\n",
       "1518  5ffcb329bab666f05f083f8a            424084271  L'Italia Vera 🇮🇹   \n",
       "1518  5ffcb329bab666f05f083f8a            424084271  L'Italia Vera 🇮🇹   \n",
       "2719  5ffcb352bab666f05f084442            467573735      IL CITTADINO   \n",
       "2811  5ffcb355bab666f05f08449f  1209530971617402880           Gerardo   \n",
       "3516  5ffcb36dbab666f05f084766            141529750   Laura Carrese ✖   \n",
       "\n",
       "              created_at                                               text  \\\n",
       "1518 2021-01-11 21:20:52  RT @Capezzone: +++Appuntamento in tv 📺 +++\\nSt...   \n",
       "1518 2021-01-11 21:20:52  RT @Capezzone: +++Appuntamento in tv 📺 +++\\nSt...   \n",
       "2719 2021-01-11 21:21:33  RT @MG58steelclass: @NicolaPorro @francetomm @...   \n",
       "2811 2021-01-11 21:21:36  @NicolaPorro Che vada A fare il pastore che è ...   \n",
       "3516 2021-01-11 21:22:00  RT @VittorioSgarbi: A 90 anni dalla sua morte ...   \n",
       "\n",
       "               user_men           nome_pgr user_men_normalize  \\\n",
       "1518  Daniele Capezzone  Quarta repubblica  daniele capezzone   \n",
       "1518  Quarta Repubblica  Quarta repubblica  quarta repubblica   \n",
       "2719       Nicola Porro  Quarta repubblica       nicola porro   \n",
       "2811       Nicola Porro  Quarta repubblica       nicola porro   \n",
       "3516    Vittorio Sgarbi  Quarta repubblica    vittorio sgarbi   \n",
       "\n",
       "     user_men_normalize_emo  \n",
       "1518      Daniele Capezzone  \n",
       "1518      Quarta Repubblica  \n",
       "2719           Nicola Porro  \n",
       "2811           Nicola Porro  \n",
       "3516        Vittorio Sgarbi  "
      ]
     },
     "execution_count": 18,
     "metadata": {},
     "output_type": "execute_result"
    }
   ],
   "source": [
    "df_final.head()"
   ]
  }
 ],
 "metadata": {
  "kernelspec": {
   "display_name": "Python 3",
   "language": "python",
   "name": "python3"
  },
  "language_info": {
   "codemirror_mode": {
    "name": "ipython",
    "version": 3
   },
   "file_extension": ".py",
   "mimetype": "text/x-python",
   "name": "python",
   "nbconvert_exporter": "python",
   "pygments_lexer": "ipython3",
   "version": "3.8.3"
  }
 },
 "nbformat": 4,
 "nbformat_minor": 4
}

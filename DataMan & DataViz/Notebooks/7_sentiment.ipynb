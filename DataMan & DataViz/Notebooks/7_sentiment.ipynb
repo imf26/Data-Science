{
 "cells": [
  {
   "cell_type": "markdown",
   "metadata": {
    "ExecuteTime": {
     "end_time": "2021-03-25T22:59:08.188658Z",
     "start_time": "2021-03-25T22:59:08.180751Z"
    }
   },
   "source": [
    "**<font size = 5 > 0. SETUP LIBRARIES AND DEFINE FUNCTIONS** </font>"
   ]
  },
  {
   "cell_type": "code",
   "execution_count": 1,
   "metadata": {
    "ExecuteTime": {
     "end_time": "2021-02-06T16:00:31.223710Z",
     "start_time": "2021-02-06T16:00:30.447310Z"
    }
   },
   "outputs": [],
   "source": [
    "import pandas as pd\n",
    "import numpy as np\n",
    "import warnings\n",
    "warnings.filterwarnings('ignore')\n",
    "\n",
    "from vaderSentiment.vaderSentiment import SentimentIntensityAnalyzer\n",
    "analyser = SentimentIntensityAnalyzer()\n",
    "\n",
    "\n",
    "def sentiment_analysis(sentence):\n",
    "    ris = analyser.polarity_scores(sentence)[\"compound\"]\n",
    "    return ris"
   ]
  },
  {
   "cell_type": "markdown",
   "metadata": {},
   "source": [
    "**<font size = 5 > 1. IMPORT DATA** </font>"
   ]
  },
  {
   "cell_type": "code",
   "execution_count": 2,
   "metadata": {
    "ExecuteTime": {
     "end_time": "2021-02-06T16:00:39.375775Z",
     "start_time": "2021-02-06T16:00:36.734218Z"
    }
   },
   "outputs": [],
   "source": [
    "#####--- 1.0 Import data\n",
    "df_cb = pd.read_excel(\"/Users/ivanmera/Documents/dataman/Tweet_puliti_tradotti/settimana_1/cartabianca_pulito_1.it.en.xlsx\",\n",
    "                  usecols = [\"_id\",\"text\",\"name_pgr\"])\n",
    "df_dm = pd.read_excel(\"/Users/ivanmera/Documents/dataman/Tweet_puliti_tradotti/settimana_1/dimartedi_pulito_1.it.en.xlsx\",\n",
    "                  usecols = [\"_id\",\"text\",\"name_pgr\"])\n",
    "df_dr = pd.read_excel(\"/Users/ivanmera/Documents/dataman/Tweet_puliti_tradotti/settimana_1/drittoerovescio_pulito_1.it.en.xlsx\",\n",
    "                  usecols = [\"_id\",\"text\",\"name_pgr\"])\n",
    "df_fdc = pd.read_excel(\"/Users/ivanmera/Documents/dataman/Tweet_puliti_tradotti/settimana_1/fuoridalcoro_pulito_1.it.en.xlsx\",\n",
    "                  usecols = [\"_id\",\"text\",\"name_pgr\"])\n",
    "df_pp = pd.read_excel(\"/Users/ivanmera/Documents/dataman/Tweet_puliti_tradotti/settimana_1/piazzapulita_pulito_1.it.en.xlsx\",\n",
    "                  usecols = [\"_id\",\"text\",\"name_pgr\"])\n",
    "df_qr = pd.read_excel(\"/Users/ivanmera/Documents/dataman/Tweet_puliti_tradotti/settimana_1/quartarepubblica_pulito_1.it.en.xlsx\",\n",
    "                  usecols = [\"_id\",\"text\",\"name_pgr\"])\n",
    "\n",
    "#####--- 1.1 Drop duplicates\n",
    "df_cb.drop_duplicates(subset = \"_id\", inplace = True)\n",
    "df_dm.drop_duplicates(subset = \"_id\", inplace = True) \n",
    "df_dr.drop_duplicates(subset = \"_id\", inplace = True) \n",
    "df_fdc.drop_duplicates(subset = \"_id\", inplace = True) \n",
    "df_pp.drop_duplicates(subset = \"_id\", inplace = True) \n",
    "df_qr.drop_duplicates(subset = \"_id\", inplace = True) "
   ]
  },
  {
   "cell_type": "markdown",
   "metadata": {},
   "source": [
    "**<font size = 5 > 2. SENTIMENT ANALYSIS** </font>"
   ]
  },
  {
   "cell_type": "code",
   "execution_count": 9,
   "metadata": {
    "ExecuteTime": {
     "end_time": "2021-02-04T18:08:03.268761Z",
     "start_time": "2021-02-04T18:08:01.941866Z"
    }
   },
   "outputs": [],
   "source": [
    "#####--- 2.0 Apply sentiment analysis\n",
    "df_cb[\"sentiment_val\"] = df_cb[\"text\"].apply(sentiment_analysis)\n",
    "df_dm[\"sentiment_val\"] = df_dm[\"text\"].apply(sentiment_analysis)\n",
    "df_dr[\"sentiment_val\"] = df_dr[\"text\"].apply(sentiment_analysis)\n",
    "df_fdc[\"sentiment_val\"] = df_fdc[\"text\"].apply(sentiment_analysis)\n",
    "df_pp[\"sentiment_val\"] = df_pp[\"text\"].apply(sentiment_analysis)\n",
    "df_qr[\"sentiment_val\"] = df_qr[\"text\"].apply(sentiment_analysis)\n",
    "df_final_sentiment_1 = pd.concat([df_cb,df_dm,df_dr,df_fdc,df_pp,df_qr])\n",
    "\n",
    "#####--- 2.1 Export\n",
    "df_final_sentiment_1.to_excel(\"/Users/ivanmera/Documents/dataman/Tweet_puliti_tradotti/all_pgr_sentiment_1.xlsx\",\n",
    "                             index = False)"
   ]
  }
 ],
 "metadata": {
  "kernelspec": {
   "display_name": "Python 3",
   "language": "python",
   "name": "python3"
  },
  "language_info": {
   "codemirror_mode": {
    "name": "ipython",
    "version": 3
   },
   "file_extension": ".py",
   "mimetype": "text/x-python",
   "name": "python",
   "nbconvert_exporter": "python",
   "pygments_lexer": "ipython3",
   "version": "3.8.3"
  }
 },
 "nbformat": 4,
 "nbformat_minor": 4
}

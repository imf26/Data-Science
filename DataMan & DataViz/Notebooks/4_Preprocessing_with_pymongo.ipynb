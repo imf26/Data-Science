{
 "cells": [
  {
   "cell_type": "markdown",
   "metadata": {},
   "source": [
    "**<font size = 5 > 0. SETUP LIBRARIES AND PACKAGES** </font>"
   ]
  },
  {
   "cell_type": "code",
   "execution_count": null,
   "metadata": {},
   "outputs": [],
   "source": [
    "from pymongo import MongoClient"
   ]
  },
  {
   "cell_type": "markdown",
   "metadata": {},
   "source": [
    "**<font size = 5 >  1. CONNECT TO DB** </font>"
   ]
  },
  {
   "cell_type": "code",
   "execution_count": null,
   "metadata": {},
   "outputs": [],
   "source": [
    "#####--- 1.0 Create a client object to access the database\n",
    "client = MongoClient('mongo', 27017, username='', password='')\n",
    "\n",
    "#####--- 1.1 Access the database\n",
    "db = client.dataman\n",
    "tweets = db.qr"
   ]
  },
  {
   "cell_type": "markdown",
   "metadata": {},
   "source": [
    "**<font size = 5 >  2. PROCESSING** </font>"
   ]
  },
  {
   "cell_type": "code",
   "execution_count": null,
   "metadata": {},
   "outputs": [],
   "source": [
    "#####--- 2.0 Drop duplicates\n",
    "doc_dups = tweets.aggregate(\n",
    "    [\n",
    "        {\"$group\": {\"_id\": {'key1': \"$user_id\", 'key2': \"$text\"}, \"unique_ids\": {\"$addToSet\": \"$_id\"}, \"count\": {\"$sum\": 1}}},\n",
    "        {\"$match\": {\"count\": { \"$gt\": 1 }}}\n",
    "    ],\n",
    "    allowDiskUse = True\n",
    ")\n",
    "\n",
    "\n",
    "id_dups = [] #qui andranno tutti gli _id dei documenti duplicati\n",
    "for doc in doc_dups:\n",
    "    del doc[\"unique_ids\"][0]\n",
    "    for id_doc in doc[\"unique_ids\"]:\n",
    "        id_dups.append(id_doc)\n",
    "\n",
    "tweets.delete_many({\"_id\": {\"$in\": response}})\n",
    "\n",
    "#####--- 2.1 Deelete tweets out of range\n",
    "tweets.delete_many({\n",
    "\"created_at\":{\n",
    "\"$lte\" :datetime.strptime('2021-01-12 21:15:00', \"%Y-%m-%d %H:%M:%S\")\n",
    "}"
   ]
  }
 ],
 "metadata": {
  "kernelspec": {
   "display_name": "Python 3",
   "language": "python",
   "name": "python3"
  },
  "language_info": {
   "codemirror_mode": {
    "name": "ipython",
    "version": 3
   },
   "file_extension": ".py",
   "mimetype": "text/x-python",
   "name": "python",
   "nbconvert_exporter": "python",
   "pygments_lexer": "ipython3",
   "version": "3.8.3"
  }
 },
 "nbformat": 4,
 "nbformat_minor": 4
}

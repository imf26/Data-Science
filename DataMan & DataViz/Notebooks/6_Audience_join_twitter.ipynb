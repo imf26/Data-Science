{
 "cells": [
  {
   "cell_type": "markdown",
   "metadata": {
    "ExecuteTime": {
     "end_time": "2021-03-25T22:52:25.695204Z",
     "start_time": "2021-03-25T22:52:25.687361Z"
    }
   },
   "source": [
    "**<font size = 5 > 0. SETUP LIBRARIES** </font>"
   ]
  },
  {
   "cell_type": "code",
   "execution_count": null,
   "metadata": {
    "ExecuteTime": {
     "end_time": "2021-02-01T23:22:40.629969Z",
     "start_time": "2021-02-01T23:22:40.623954Z"
    }
   },
   "outputs": [],
   "source": [
    "import pandas as pd\n",
    "import numpy as np\n",
    "import warnings\n",
    "warnings.filterwarnings('ignore')"
   ]
  },
  {
   "cell_type": "markdown",
   "metadata": {},
   "source": [
    "**<font size = 5 > 1. IMPORT CONFIG_FILE AND DATA** </font>"
   ]
  },
  {
   "cell_type": "code",
   "execution_count": null,
   "metadata": {},
   "outputs": [],
   "source": [
    "#####--- 1.0 Import Config_File\n",
    "yaml        = YAML(typ='safe')\n",
    "with open('Config_File.yml', 'r') as fil:\n",
    "        config = yaml.load(fil)\n",
    "config_general = config[\"general\"]\n",
    "shr_fasce = config_general[\"shr_fasce\"]\n",
    "amr_fasce = config_general[\"amr_fasce\"]\n",
    "\n",
    "#####--- 1.1 Import data\n",
    "df_ascolto = pd.read_excel(\"/Users/ivanmera/Documents/dataman/dati_ascolto/Dati_ascolto_1.xlsx\")\n",
    "df_ascolto[\"Nome programma\"] = df_ascolto[\"Nome programma\"].str.capitalize()\n",
    "df_qr = pd.read_excel(\"/Users/ivanmera/Documents/dataman/Prima_settimana_xlsx_puliti/quartarepubblica_pulito_1.xlsx\",\n",
    "                     usecols = [\"_id\",\"nome_pgr\"])\n",
    "df_dm = pd.read_excel(\"/Users/ivanmera/Documents/dataman/Prima_settimana_xlsx_puliti/dimartedi_pulito_1.xlsx\",\n",
    "                     usecols = [\"_id\",\"nome_pgr\"])\n",
    "df_cb = pd.read_excel(\"/Users/ivanmera/Documents/dataman/Prima_settimana_xlsx_puliti/cartabianca_pulito_1.xlsx\",\n",
    "                     usecols = [\"_id\",\"nome_pgr\"])\n",
    "df_dr = pd.read_excel(\"/Users/ivanmera/Documents/dataman/Prima_settimana_xlsx_puliti/drittoerovescio_pulito_1.xlsx\",\n",
    "                     usecols = [\"_id\",\"nome_pgr\"])\n",
    "df_fdc = pd.read_excel(\"/Users/ivanmera/Documents/dataman/Prima_settimana_xlsx_puliti/fuoridalcoro_pulito_1.xlsx\",\n",
    "                      usecols = [\"_id\",\"nome_pgr\"])\n",
    "df_pp = pd.read_excel(\"/Users/ivanmera/Documents/dataman/Prima_settimana_xlsx_puliti/piazzapulita_pulito_1.xlsx\",\n",
    "                     usecols = [\"_id\",\"nome_pgr\"])\n",
    "df_followers = pd.read_excel(\"/Users/ivanmera/Documents/dataman/dati_scraping/orario_pgr_from_scraping.xlsx\",\n",
    "                            usecols = [\"Nome programma\",\"Followers twitter\"])"
   ]
  },
  {
   "cell_type": "markdown",
   "metadata": {},
   "source": [
    "**<font size = 5 > 2. PROCESSING** </font>"
   ]
  },
  {
   "cell_type": "code",
   "execution_count": 18,
   "metadata": {
    "ExecuteTime": {
     "end_time": "2021-02-01T23:23:07.180075Z",
     "start_time": "2021-02-01T23:23:07.145858Z"
    }
   },
   "outputs": [],
   "source": [
    "#####--- 2.0 Compute unique tweets\n",
    "# Quarta repubblica\n",
    "n_tweets_unici_qr = len(df_qr[\"_id\"].unique())\n",
    "df_qr.drop_duplicates(subset = [\"nome_pgr\"], inplace = True)\n",
    "df_qr[\"n_tweets_unici\"] = n_tweets_unici_qr\n",
    "\n",
    "#Di martedì\n",
    "n_tweets_unici_dm = len(df_dm[\"_id\"].unique())\n",
    "df_dm.drop_duplicates(subset = [\"nome_pgr\"], inplace = True)\n",
    "df_dm[\"n_tweets_unici\"] = n_tweets_unici_dm\n",
    "\n",
    "# Carta bianca\n",
    "n_tweets_unici_cb = len(df_cb[\"_id\"].unique())\n",
    "df_cb.drop_duplicates(subset = [\"nome_pgr\"], inplace = True)\n",
    "df_cb[\"n_tweets_unici\"] = n_tweets_unici_cb\n",
    "\n",
    "# Dritto e rovescio\n",
    "n_tweets_unici_dr = len(df_dr[\"_id\"].unique())\n",
    "df_dr.drop_duplicates(subset = [\"nome_pgr\"], inplace = True)\n",
    "df_dr[\"n_tweets_unici\"] = n_tweets_unici_dr\n",
    "\n",
    "# Fuori dal coro\n",
    "n_tweets_unici_fdc = len(df_fdc[\"_id\"].unique())\n",
    "df_fdc.drop_duplicates(subset = [\"nome_pgr\"], inplace = True)\n",
    "df_fdc[\"n_tweets_unici\"] = n_tweets_unici_fdc\n",
    "\n",
    "# Piazza pulita\n",
    "n_tweets_unici_pp = len(df_pp[\"_id\"].unique())\n",
    "df_pp.drop_duplicates(subset = [\"nome_pgr\"], inplace = True)\n",
    "df_pp[\"n_tweets_unici\"] = n_tweets_unici_pp\n",
    "\n",
    "#####--- 2.1 Single file\n",
    "n_tweets_unici_tot = pd.concat([df_qr,df_dm,df_cb,\n",
    "                                df_dr,df_fdc,df_pp])\n",
    "n_tweets_unici_tot.rename({\"nome_pgr\":\"Nome programma\"}, axis  =1, inplace= True)\n",
    "n_tweets_unici_tot.drop(\"_id\", axis = 1, inplace = True)\n",
    "\n",
    "#####--- 2.2 Compute SHR median\n",
    "df_ascolto[\"SHR_mediano\"] = df_ascolto[shr_fasce].median(axis = 1)\n",
    "\n",
    "#####--- 2.3 Compute AMR median\n",
    "df_ascolto[\"AMR_mediano\"] = df_ascolto[amr_fasce].median(axis = 1)\n",
    "\n",
    "#####--- 2.4 Merge df and filter variables\n",
    "df_final =  df_ascolto.merge(n_tweets_unici_tot, on = \"Nome programma\")\n",
    "df_final = df_final[[\"Nome programma\",\"AMR_mediano\",\"SHR_mediano\",\"n_tweets_unici\"]]\n",
    "\n",
    "#####--- 2.5 Export\n",
    "df_final.to_excel(\"/Users/ivanmera/Documents/dataman/dati_ascolto/stream_join_audience_1.xlsx\",\n",
    "                 index = False)"
   ]
  }
 ],
 "metadata": {
  "kernelspec": {
   "display_name": "Python 3",
   "language": "python",
   "name": "python3"
  },
  "language_info": {
   "codemirror_mode": {
    "name": "ipython",
    "version": 3
   },
   "file_extension": ".py",
   "mimetype": "text/x-python",
   "name": "python",
   "nbconvert_exporter": "python",
   "pygments_lexer": "ipython3",
   "version": "3.8.3"
  }
 },
 "nbformat": 4,
 "nbformat_minor": 4
}

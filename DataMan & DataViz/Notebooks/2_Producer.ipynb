{
 "cells": [
  {
   "cell_type": "markdown",
   "metadata": {},
   "source": [
    "**<font size = 5 > 0. SETUP LIBRARIES AND PACKAGES** </font>"
   ]
  },
  {
   "cell_type": "code",
   "execution_count": 1,
   "metadata": {},
   "outputs": [],
   "source": [
    "#####--- 0.1 Import libraries\n",
    "import tweepy\n",
    "from kafka import KafkaProducer\n",
    "from tweepy import OAuthHandler\n",
    "from tweepy.streaming import StreamListener\n",
    "from tweepy import Stream\n",
    "import json\n",
    "from pathlib import Path\n",
    "from ruamel.yaml import YAML\n",
    "import pandas as pd\n",
    "from  datetime import datetime\n",
    "import time\n",
    "from datetime import timedelta\n",
    "import warnings\n",
    "warnings.filterwarnings('ignore')\n",
    "\n",
    "\n",
    "#####--- 0.1 Define class used later in the program\n",
    "class MyListener(StreamListener):\n",
    "    def __init__(self, producer, name_pgr = \"\"):\n",
    "        super().__init__()\n",
    "        self.producer = producer\n",
    "        self.pgr = name_pgr\n",
    "    \n",
    "    def on_status(self, status):\n",
    "        tweet = {\n",
    "            \n",
    "          #In this section we get users' attribute\n",
    "            \n",
    "          'user_id': status.user.id,\n",
    "          'username': status.user.name,\n",
    "          'created_at': str(status.created_at),\n",
    "          'followers':status.user.followers_count,\n",
    "          'friends':status.user.friends_count,\n",
    "          'location': status.user.location,\n",
    "            \n",
    "          #In this section we get others attributes\n",
    "            \n",
    "          'text': status.text,\n",
    "          'hashtags': [],\n",
    "          'user_mentions_id': [],\n",
    "          'user_mentions_name': [] ,\n",
    "            \n",
    "            \n",
    "          #In this section we add some attributes from external file\n",
    "            \n",
    "          'nome_pgr':self.pgr\n",
    "        }\n",
    "        if status.entities.get('hashtags') is not None:\n",
    "            hashtags = status.entities.get('hashtags')\n",
    "            tweet['hashtags'] = [ h.get('text') for h in hashtags ]\n",
    "        if status.entities.get('user_mentions') is not None:\n",
    "            mentions = status.entities.get('user_mentions')\n",
    "            tweet['user_mentions_id'] = [ m.get('id') for m in mentions ]\n",
    "            tweet['user_mentions_name'] = [ m.get('name') for m in mentions ]\n",
    "            \n",
    "    \n",
    "        self.producer.send(topic = act_topic, value = tweet)\n",
    "\n"
   ]
  },
  {
   "cell_type": "markdown",
   "metadata": {},
   "source": [
    "**<font size = 5 > 1. IMPORT DATASETS AND CONFIG_FILE** </font>"
   ]
  },
  {
   "cell_type": "code",
   "execution_count": 2,
   "metadata": {},
   "outputs": [],
   "source": [
    "#####--- 1.0 Read Config_File and set some variables\n",
    "yaml        = YAML(typ='safe')\n",
    "with open('Config_File.yml', 'r') as fil:\n",
    "        config = yaml.load(fil)\n",
    "config_general = config[\"general\"]\n",
    "config_pgr = config[\"pgr1\"]\n",
    "nome_pgr = config_pgr[\"programma\"].capitalize()\n",
    "act_topic = config_pgr[\"topic\"]\n",
    "hours_gtm = int(config_general[\"hours_gtm\"])\n",
    "delta_before = int(config_pgr[\"delta_before\"])\n",
    "leng = config_pgr[\"leng\"]\n",
    "\n",
    "#####--- 1.1 Read third part data and set some variables\n",
    "df_pgr = pd.read_excel(config_general[\"pgr_data\"])\n",
    "df_subset = df_pgr.loc[df_pgr[\"Nome programma\"] == nome_pgr]\n",
    "programma = df_subset[\"Nome programma\"].values[0]\n",
    "h_ini = df_subset[\"Orario inizio\"].values[0]\n",
    "h_ini = datetime.strptime(h_ini, \"%Y-%m-%d %H:%M:%S\")\n",
    "keywords = df_subset[\"Hashtags\"].values[0]\n",
    "\n",
    "#####--- 1.2 Set consumer key, consumer secret, access token and access token secret\n",
    "consumer_key = config_general[\"ck\"]\n",
    "consumer_secret = config_general[\"cs\"]\n",
    "access_token = config_general[\"at\"]\n",
    "access_token_secret = config_general[\"ats\"]\n",
    "\n",
    "#####--- 1.3 Authenticate with the OAuth protocol\n",
    "auth = OAuthHandler(consumer_key, consumer_secret)\n",
    "auth.set_access_token(access_token, access_token_secret)\n",
    "\n",
    "#####--- 1.4 Get the API object passing the authentication object\n",
    "api = tweepy.API(auth)\n",
    "\n",
    "#####--- 1.5 Set producer\n",
    "producer = KafkaProducer(\n",
    "  bootstrap_servers=[\"kafka:9092\"],\n",
    "  value_serializer=lambda v: json.dumps(v).encode(\"utf-8\"))"
   ]
  },
  {
   "cell_type": "markdown",
   "metadata": {},
   "source": [
    "**<font size = 5 > 2. STREAM DATA** </font>"
   ]
  },
  {
   "cell_type": "code",
   "execution_count": null,
   "metadata": {},
   "outputs": [],
   "source": [
    "#####--- 2.0 Define listener\n",
    "listener = MyListener(producer = producer, name_pgr = programma)\n",
    "#####--- 2.1 Define streamer\n",
    "stream = Stream(auth = api.auth, listener=listener)\n",
    "\n",
    "#####--- 2.2 Set program hour\n",
    "ora_now = datetime.now()\n",
    "ora_pgr = datetime(ora_now.year, ora_now.month, ora_now.day, \n",
    "                   h_ini.hour - hours_gtm, h_ini.minute, h_ini.second) \n",
    "inizio_stream = ora_pgr - timedelta(minutes = delta_before)\n",
    "print(\"Orario adesso: \", ora_now)\n",
    "print(\"Orario programma: \", ora_pgr)\n",
    "print(\"Orario inizio streaam: \", inizio_stream)\n",
    "\n",
    "#####--- 2.3 Wait until program start\n",
    "while (datetime.now() < inizio_stream):\n",
    "    time.sleep(5)\n",
    "    print(\"\\n waiting..\\n\")\n",
    "\n",
    "#####--- 2.4 Start streaming\n",
    "print(\"Stopped waiting..\\n\")\n",
    "print(\"Start streaming..\\n\")\n",
    "stream.filter(track = keywords, languages=[leng])"
   ]
  },
  {
   "cell_type": "code",
   "execution_count": null,
   "metadata": {},
   "outputs": [],
   "source": []
  }
 ],
 "metadata": {
  "kernelspec": {
   "display_name": "Python 3",
   "language": "python",
   "name": "python3"
  },
  "language_info": {
   "codemirror_mode": {
    "name": "ipython",
    "version": 3
   },
   "file_extension": ".py",
   "mimetype": "text/x-python",
   "name": "python",
   "nbconvert_exporter": "python",
   "pygments_lexer": "ipython3",
   "version": "3.8.3"
  }
 },
 "nbformat": 4,
 "nbformat_minor": 4
}

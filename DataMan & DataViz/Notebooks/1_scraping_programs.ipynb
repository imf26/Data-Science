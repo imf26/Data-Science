{
 "cells": [
  {
   "cell_type": "markdown",
   "metadata": {},
   "source": [
    "## 0. Import libraries and define functions"
   ]
  },
  {
   "cell_type": "code",
   "execution_count": 1,
   "metadata": {
    "ExecuteTime": {
     "end_time": "2021-02-08T18:06:12.411021Z",
     "start_time": "2021-02-08T18:06:11.553346Z"
    }
   },
   "outputs": [],
   "source": [
    "from bs4 import BeautifulSoup\n",
    "import requests\n",
    "import pandas as pd\n",
    "import re\n",
    "from datetime import timedelta\n",
    "from datetime import datetime\n",
    "from datetime import date\n",
    "import warnings\n",
    "warnings.filterwarnings('ignore')\n",
    "\n",
    "def only_duration(dur):\n",
    "        duration = re.findall(\"\\d\",dur)\n",
    "        duration = ''.join(duration)\n",
    "        return duration"
   ]
  },
  {
   "cell_type": "markdown",
   "metadata": {},
   "source": [
    "## 1. Define both website and elements to scrape"
   ]
  },
  {
   "cell_type": "code",
   "execution_count": 2,
   "metadata": {
    "ExecuteTime": {
     "end_time": "2021-02-08T18:06:13.543320Z",
     "start_time": "2021-02-08T18:06:13.220850Z"
    }
   },
   "outputs": [],
   "source": [
    "#####--- 1.0 Read Config_File and set some variables\n",
    "yaml        = YAML(typ='safe')\n",
    "with open('Config_File.yml', 'r') as fil:\n",
    "        config = yaml.load(fil)\n",
    "config_general = config[\"general\"]\n",
    "scrape_pgr_class = config_general[\"scrape_pgr_class\"]\n",
    "scrape_type_dur = config_general[\"scrape_type_dur\"]\n",
    "scrape_start_class = config_general[\"scrape_start_class\"]\n",
    "config_pgr = config[\"pgr1\"]\n",
    "linkweb = config_pgr[\"link\"]\n",
    "nome_pgr = config_pgr[\"programma\"].capitalize()\n",
    "tipo_pgr = config_pgr[\"tipologia\"].capitalize()\n",
    "\n",
    "\n",
    "#####--- 1.1 Define website\n",
    "base_url = linkweb\n",
    "response = requests.get(base_url)\n",
    "html_page = response.text\n",
    "html_tree = BeautifulSoup(html_page)\n",
    "html_tree = BeautifulSoup(html_page, 'html.parser')\n",
    "\n",
    "#####--- 1.2 Define elements list to scrape\n",
    "lista_pgr = []\n",
    "lisa_type_durata  = []\n",
    "lista_inizio_pgr = []\n",
    "\n",
    "#####--- 1.3 Define classes\n",
    "programmi = html_tree.find_all(\"span\", class_ = scrape_pgr_class)\n",
    "type_durata= html_tree.find_all(\"span\", class_ = scrape_type_dur )\n",
    "inizio_pgr= html_tree.find_all(\"div\", class_ = scrape_start_class)"
   ]
  },
  {
   "cell_type": "markdown",
   "metadata": {},
   "source": [
    "## 2. Scrape and create dataset"
   ]
  },
  {
   "cell_type": "code",
   "execution_count": 5,
   "metadata": {
    "ExecuteTime": {
     "end_time": "2021-02-08T18:06:16.531599Z",
     "start_time": "2021-02-08T18:06:16.508052Z"
    }
   },
   "outputs": [],
   "source": [
    "#####--- 2.0 Scrape programs list\n",
    "for p in programmi:\n",
    "    lista_pgr.append(p.string)\n",
    "\n",
    "#####--- 2.1 Scrape programs types and duration\n",
    "for o in type_durata:\n",
    "    lisa_type_durata.append(o.string)\n",
    "\n",
    "#####--- 2.2 Scrape starting time\n",
    "for i in inizio_pgr:\n",
    "    lista_inizio_pgr.append(i.contents[0])\n",
    "    \n",
    "df = pd.DataFrame(list(zip(lista_pgr,lisa_type_durata,lista_inizio_pgr)), \n",
    "                  columns = [\"Programma\",\"Durata\",\"Orario inizio\"])"
   ]
  },
  {
   "cell_type": "markdown",
   "metadata": {},
   "source": [
    "## 3. Process dataframe"
   ]
  },
  {
   "cell_type": "code",
   "execution_count": 9,
   "metadata": {
    "ExecuteTime": {
     "end_time": "2021-02-08T18:06:18.803085Z",
     "start_time": "2021-02-08T18:06:18.722228Z"
    }
   },
   "outputs": [],
   "source": [
    "#####--- 3.0 Split Tipologia and Durata\n",
    "df[[\"Tipologia\",\"Durata\"]] = df[\"Durata\"].str.split(r\"\\(\", expand = True)\n",
    "df[\"Tipologia\"] = df[\"Tipologia\"].str.strip()\n",
    "df[\"Durata\"] = df[\"Durata\"].apply(only_duration)\n",
    "df[\"Durata\"] = df[\"Durata\"].astype(int)\n",
    "\n",
    "#####--- 3.1 Set datetime format for Orario inizio\n",
    "df[\"Orario inizio\"] = df[\"Orario inizio\"].astype(\"str\")\n",
    "df[\"Orario inizio\"] = df[\"Orario inizio\"].str.strip()\n",
    "df[\"Orario inizio\"] = pd.to_datetime(df['Orario inizio'])\n",
    "\n",
    "#####--- 3.2 Create ending time\n",
    "df['Orario fine'] = df_final[\"Orario inizio\"]+ pd.TimedeltaIndex(df['Durata'], unit='m')\n",
    "\n",
    "#####--- 3.3 Create hashtag variable\n",
    "df[\"Hashtags\"] = df[\"Programma\"].str.lower()\n",
    "df[\"Hashtags\"] = df[\"Hashtags\"].str.strip()\n",
    "\n",
    "#####--- 3.4 Create Giorno settimana variable\n",
    "df[\"Giorno settimana\"] = df[\"Orario inizio\"].dt.day_name(locale=\"it_IT\")"
   ]
  },
  {
   "cell_type": "markdown",
   "metadata": {},
   "source": [
    "## 4. Filter based on program and type"
   ]
  },
  {
   "cell_type": "code",
   "execution_count": 13,
   "metadata": {
    "ExecuteTime": {
     "end_time": "2021-02-08T18:06:22.571447Z",
     "start_time": "2021-02-08T18:06:22.492828Z"
    }
   },
   "outputs": [],
   "source": [
    "#####--- 4.0 Filter programs\n",
    "df = df.loc[(df[\"Tipologia\"] == tipo_pgr)&(df[\"Programma\"] == nome_pgr)]\n",
    "df.drop_duplicates(subset = [\"Programma\"], keep= \"last\", inplace = True)\n",
    "\n",
    "#####--- 4.1 Drop some variables\n",
    "df.drop([\"Durata\",\"Tipologia\"], axis = 1,inplace  = True)"
   ]
  },
  {
   "cell_type": "code",
   "execution_count": 21,
   "metadata": {
    "ExecuteTime": {
     "end_time": "2021-02-08T18:06:31.852688Z",
     "start_time": "2021-02-08T18:06:31.802774Z"
    }
   },
   "outputs": [
    {
     "data": {
      "text/html": [
       "<div>\n",
       "<style scoped>\n",
       "    .dataframe tbody tr th:only-of-type {\n",
       "        vertical-align: middle;\n",
       "    }\n",
       "\n",
       "    .dataframe tbody tr th {\n",
       "        vertical-align: top;\n",
       "    }\n",
       "\n",
       "    .dataframe thead th {\n",
       "        text-align: right;\n",
       "    }\n",
       "</style>\n",
       "<table border=\"1\" class=\"dataframe\">\n",
       "  <thead>\n",
       "    <tr style=\"text-align: right;\">\n",
       "      <th></th>\n",
       "      <th>Programma</th>\n",
       "      <th>Orario inizio</th>\n",
       "      <th>Orario fine</th>\n",
       "      <th>Giorno settimana</th>\n",
       "      <th>Hashtags</th>\n",
       "    </tr>\n",
       "  </thead>\n",
       "  <tbody>\n",
       "    <tr>\n",
       "      <th>17</th>\n",
       "      <td>Quarta repubblica</td>\n",
       "      <td>2021-02-08 21:25:00</td>\n",
       "      <td>2021-02-09 00:51:00</td>\n",
       "      <td>Lunedì</td>\n",
       "      <td>quartarepubblica</td>\n",
       "    </tr>\n",
       "  </tbody>\n",
       "</table>\n",
       "</div>"
      ],
      "text/plain": [
       "            Programma       Orario inizio         Orario fine  \\\n",
       "17  Quarta repubblica 2021-02-08 21:25:00 2021-02-09 00:51:00   \n",
       "\n",
       "   Giorno settimana          Hashtags  \n",
       "17           Lunedì  quartarepubblica  "
      ]
     },
     "execution_count": 21,
     "metadata": {},
     "output_type": "execute_result"
    }
   ],
   "source": [
    "df.head()"
   ]
  },
  {
   "cell_type": "code",
   "execution_count": null,
   "metadata": {},
   "outputs": [],
   "source": []
  }
 ],
 "metadata": {
  "kernelspec": {
   "display_name": "Python 3",
   "language": "python",
   "name": "python3"
  },
  "language_info": {
   "codemirror_mode": {
    "name": "ipython",
    "version": 3
   },
   "file_extension": ".py",
   "mimetype": "text/x-python",
   "name": "python",
   "nbconvert_exporter": "python",
   "pygments_lexer": "ipython3",
   "version": "3.8.3"
  }
 },
 "nbformat": 4,
 "nbformat_minor": 4
}
